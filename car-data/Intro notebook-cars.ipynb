{
 "cells": [
  {
   "cell_type": "code",
   "execution_count": 4,
   "metadata": {},
   "outputs": [],
   "source": [
    "import pandas\n",
    "df = pandas.read_csv('cars.csv')"
   ]
  },
  {
   "cell_type": "code",
   "execution_count": 10,
   "metadata": {},
   "outputs": [
    {
     "name": "stdout",
     "output_type": "stream",
     "text": [
      "<class 'pandas.core.frame.DataFrame'>\n",
      "RangeIndex: 5076 entries, 0 to 5075\n",
      "Data columns (total 18 columns):\n",
      "Dimensions.Height                                  5076 non-null int64\n",
      "Dimensions.Length                                  5076 non-null int64\n",
      "Dimensions.Width                                   5076 non-null int64\n",
      "Engine Information.Driveline                       5076 non-null object\n",
      "Engine Information.Engine Type                     5076 non-null object\n",
      "Engine Information.Hybrid                          5076 non-null bool\n",
      "Engine Information.Number of Forward Gears         5076 non-null int64\n",
      "Engine Information.Transmission                    5076 non-null object\n",
      "Fuel Information.City mpg                          5076 non-null int64\n",
      "Fuel Information.Fuel Type                         5076 non-null object\n",
      "Fuel Information.Highway mpg                       5076 non-null int64\n",
      "Identification.Classification                      5076 non-null object\n",
      "Identification.ID                                  5076 non-null object\n",
      "Identification.Make                                5076 non-null object\n",
      "Identification.Model Year                          5076 non-null object\n",
      "Identification.Year                                5076 non-null int64\n",
      "Engine Information.Engine Statistics.Horsepower    5076 non-null int64\n",
      "Engine Information.Engine Statistics.Torque        5076 non-null int64\n",
      "dtypes: bool(1), int64(9), object(8)\n",
      "memory usage: 679.2+ KB\n"
     ]
    }
   ],
   "source": [
    "df.info()"
   ]
  },
  {
   "cell_type": "code",
   "execution_count": 23,
   "metadata": {},
   "outputs": [],
   "source": [
    "avg_df = df.agg(\n",
    "    {\n",
    "        \"Dimensions.Length\": ['average', 'max']\n",
    "    }\n",
    ")\n",
    "\n",
    "df[\"diff_avg\"] = df[\"Dimensions.Length\"] - avg_df[\"Dimensions.Length\"][\"average\"]\n"
   ]
  },
  {
   "cell_type": "code",
   "execution_count": 25,
   "metadata": {},
   "outputs": [
    {
     "data": {
      "text/plain": [
       "<matplotlib.axes._subplots.AxesSubplot at 0x214f228ebe0>"
      ]
     },
     "execution_count": 25,
     "metadata": {},
     "output_type": "execute_result"
    },
    {
     "data": {
      "image/png": "[encoded data removed]",
      "text/plain": [
       "<Figure size 432x288 with 1 Axes>"
      ]
     },
     "metadata": {
      "needs_background": "light"
     },
     "output_type": "display_data"
    }
   ],
   "source": [
    "import matplotlib.pyplot as plt\n",
    "df.plot.scatter(x=\"Dimensions.Length\", y=\"diff_avg\")"
   ]
  },
  {
   "cell_type": "code",
   "execution_count": 26,
   "metadata": {},
   "outputs": [
    {
     "data": {
      "text/plain": [
       "count    5076.000000\n",
       "mean      127.825847\n",
       "std        77.358295\n",
       "min         2.000000\n",
       "25%        60.000000\n",
       "50%       128.000000\n",
       "75%       198.000000\n",
       "max       255.000000\n",
       "Name: Dimensions.Length, dtype: float64"
      ]
     },
     "execution_count": 26,
     "metadata": {},
     "output_type": "execute_result"
    }
   ],
   "source": [
    "df[\"Dimensions.Length\"].describe()"
   ]
  },
  {
   "cell_type": "code",
   "execution_count": null,
   "metadata": {},
   "outputs": [],
   "source": []
  }
 ],
 "metadata": {
  "kernelspec": {
   "display_name": "Python 3",
   "language": "python",
   "name": "python3"
  },
  "language_info": {
   "codemirror_mode": {
    "name": "ipython",
    "version": 3
   },
   "file_extension": ".py",
   "mimetype": "text/x-python",
   "name": "python",
   "nbconvert_exporter": "python",
   "pygments_lexer": "ipython3",
   "version": "3.7.3"
  }
 },
 "nbformat": 4,
 "nbformat_minor": 4
}
